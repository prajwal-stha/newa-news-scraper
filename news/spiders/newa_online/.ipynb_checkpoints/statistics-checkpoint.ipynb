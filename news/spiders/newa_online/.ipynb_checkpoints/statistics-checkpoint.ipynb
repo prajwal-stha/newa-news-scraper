{
 "cells": [
  {
   "cell_type": "code",
   "execution_count": 1,
   "id": "f832d736-66d7-41ec-bf0c-8dc36b1c22a0",
   "metadata": {},
   "outputs": [],
   "source": [
    "import numpy as np\n",
    "import pandas as pd\n",
    "import os\n",
    "import glob\n",
    "from IPython.display import display"
   ]
  },
  {
   "cell_type": "code",
   "execution_count": 2,
   "id": "a019bc25-be48-43e3-bb32-ca5490db3aac",
   "metadata": {},
   "outputs": [],
   "source": [
    "dataframes = {os.path.splitext(os.path.basename(f))[0] : pd.read_csv(f) for f in glob.glob('*.csv')} "
   ]
  },
  {
   "cell_type": "code",
   "execution_count": 3,
   "id": "c043d51a-2a21-44cd-90be-1818f9cd971d",
   "metadata": {},
   "outputs": [
    {
     "name": "stdout",
     "output_type": "stream",
     "text": [
      "22513\n",
      "2599\n",
      "9869\n",
      "6342\n",
      "1950\n",
      "3885\n",
      "10548\n",
      "29883\n",
      "11725\n",
      "9901\n"
     ]
    }
   ],
   "source": [
    "categories = []\n",
    "word_counts = []\n",
    "\n",
    "for name in dataframes:\n",
    "    if name:\n",
    "        dataframe = dataframes[name]\n",
    "        categories.append(name)\n",
    "        dataframe['number_of_words'] = dataframe['final_news'].apply(lambda n: len(n.split()))\n",
    "        total_number_of_words = dataframe['number_of_words'].sum()\n",
    "        print(total_number_of_words)\n",
    "        word_counts.append(total_number_of_words)\n",
    "          "
   ]
  },
  {
   "cell_type": "code",
   "execution_count": 4,
   "id": "05b2fec2-d3ff-4fd5-b3b7-763cd7fd143f",
   "metadata": {},
   "outputs": [
    {
     "data": {
      "text/html": [
       "<div>\n",
       "<style scoped>\n",
       "    .dataframe tbody tr th:only-of-type {\n",
       "        vertical-align: middle;\n",
       "    }\n",
       "\n",
       "    .dataframe tbody tr th {\n",
       "        vertical-align: top;\n",
       "    }\n",
       "\n",
       "    .dataframe thead th {\n",
       "        text-align: right;\n",
       "    }\n",
       "</style>\n",
       "<table border=\"1\" class=\"dataframe\">\n",
       "  <thead>\n",
       "    <tr style=\"text-align: right;\">\n",
       "      <th></th>\n",
       "      <th>Category</th>\n",
       "      <th>Number of Words</th>\n",
       "    </tr>\n",
       "  </thead>\n",
       "  <tbody>\n",
       "    <tr>\n",
       "      <th>0</th>\n",
       "      <td>knowledgable-facts</td>\n",
       "      <td>22513</td>\n",
       "    </tr>\n",
       "    <tr>\n",
       "      <th>1</th>\n",
       "      <td>कासा</td>\n",
       "      <td>2599</td>\n",
       "    </tr>\n",
       "    <tr>\n",
       "      <th>2</th>\n",
       "      <td>दुर्घटना-अपराध</td>\n",
       "      <td>9869</td>\n",
       "    </tr>\n",
       "    <tr>\n",
       "      <th>3</th>\n",
       "      <td>अन्तर्राष्ट्रिय</td>\n",
       "      <td>6342</td>\n",
       "    </tr>\n",
       "    <tr>\n",
       "      <th>4</th>\n",
       "      <td>नेवाः</td>\n",
       "      <td>1950</td>\n",
       "    </tr>\n",
       "    <tr>\n",
       "      <th>5</th>\n",
       "      <td>बजाः</td>\n",
       "      <td>3885</td>\n",
       "    </tr>\n",
       "    <tr>\n",
       "      <th>6</th>\n",
       "      <td>स्थानिय-समाज</td>\n",
       "      <td>10548</td>\n",
       "    </tr>\n",
       "    <tr>\n",
       "      <th>7</th>\n",
       "      <td>राजनीति</td>\n",
       "      <td>29883</td>\n",
       "    </tr>\n",
       "    <tr>\n",
       "      <th>8</th>\n",
       "      <td>कला</td>\n",
       "      <td>11725</td>\n",
       "    </tr>\n",
       "    <tr>\n",
       "      <th>9</th>\n",
       "      <td>राष्ट्रिय</td>\n",
       "      <td>9901</td>\n",
       "    </tr>\n",
       "  </tbody>\n",
       "</table>\n",
       "</div>"
      ],
      "text/plain": [
       "             Category  Number of Words\n",
       "0  knowledgable-facts            22513\n",
       "1                कासा             2599\n",
       "2      दुर्घटना-अपराध             9869\n",
       "3     अन्तर्राष्ट्रिय             6342\n",
       "4               नेवाः             1950\n",
       "5                बजाः             3885\n",
       "6        स्थानिय-समाज            10548\n",
       "7             राजनीति            29883\n",
       "8                 कला            11725\n",
       "9           राष्ट्रिय             9901"
      ]
     },
     "metadata": {},
     "output_type": "display_data"
    }
   ],
   "source": [
    "# creating a DataFrame\n",
    "dict = {'Category' : categories,\n",
    "        'Number of Words' : word_counts \n",
    "       }\n",
    "df = pd.DataFrame(dict)\n",
    "  \n",
    "# displaying the DataFrame\n",
    "display(df)"
   ]
  },
  {
   "cell_type": "code",
   "execution_count": 5,
   "id": "8eab5af3-2a57-41c5-aaa0-62114dc1d565",
   "metadata": {},
   "outputs": [
    {
     "name": "stdout",
     "output_type": "stream",
     "text": [
      "69\n",
      "19\n",
      "82\n",
      "46\n",
      "10\n",
      "31\n",
      "74\n",
      "228\n",
      "50\n",
      "95\n"
     ]
    }
   ],
   "source": [
    "categories = []\n",
    "sentence_count = []\n",
    "\n",
    "for name in dataframes:\n",
    "    if name:\n",
    "        dataframe = dataframes[name]\n",
    "        categories.append(name)\n",
    "        dataframe['number_of_sentences'] = dataframe['final_news'].apply(lambda n: len(n.split(\"|\")))\n",
    "        total_number_of_sentence = dataframe['number_of_sentences'].sum()\n",
    "        print(total_number_of_sentence)\n",
    "        sentence_count.append(total_number_of_sentence)"
   ]
  },
  {
   "cell_type": "code",
   "execution_count": 6,
   "id": "3c1790c1-5dcd-4f26-ad21-c6febb461a50",
   "metadata": {},
   "outputs": [
    {
     "data": {
      "text/html": [
       "<div>\n",
       "<style scoped>\n",
       "    .dataframe tbody tr th:only-of-type {\n",
       "        vertical-align: middle;\n",
       "    }\n",
       "\n",
       "    .dataframe tbody tr th {\n",
       "        vertical-align: top;\n",
       "    }\n",
       "\n",
       "    .dataframe thead th {\n",
       "        text-align: right;\n",
       "    }\n",
       "</style>\n",
       "<table border=\"1\" class=\"dataframe\">\n",
       "  <thead>\n",
       "    <tr style=\"text-align: right;\">\n",
       "      <th></th>\n",
       "      <th>Category</th>\n",
       "      <th>Number of Sentences</th>\n",
       "    </tr>\n",
       "  </thead>\n",
       "  <tbody>\n",
       "    <tr>\n",
       "      <th>0</th>\n",
       "      <td>knowledgable-facts</td>\n",
       "      <td>69</td>\n",
       "    </tr>\n",
       "    <tr>\n",
       "      <th>1</th>\n",
       "      <td>कासा</td>\n",
       "      <td>19</td>\n",
       "    </tr>\n",
       "    <tr>\n",
       "      <th>2</th>\n",
       "      <td>दुर्घटना-अपराध</td>\n",
       "      <td>82</td>\n",
       "    </tr>\n",
       "    <tr>\n",
       "      <th>3</th>\n",
       "      <td>अन्तर्राष्ट्रिय</td>\n",
       "      <td>46</td>\n",
       "    </tr>\n",
       "    <tr>\n",
       "      <th>4</th>\n",
       "      <td>नेवाः</td>\n",
       "      <td>10</td>\n",
       "    </tr>\n",
       "    <tr>\n",
       "      <th>5</th>\n",
       "      <td>बजाः</td>\n",
       "      <td>31</td>\n",
       "    </tr>\n",
       "    <tr>\n",
       "      <th>6</th>\n",
       "      <td>स्थानिय-समाज</td>\n",
       "      <td>74</td>\n",
       "    </tr>\n",
       "    <tr>\n",
       "      <th>7</th>\n",
       "      <td>राजनीति</td>\n",
       "      <td>228</td>\n",
       "    </tr>\n",
       "    <tr>\n",
       "      <th>8</th>\n",
       "      <td>कला</td>\n",
       "      <td>50</td>\n",
       "    </tr>\n",
       "    <tr>\n",
       "      <th>9</th>\n",
       "      <td>राष्ट्रिय</td>\n",
       "      <td>95</td>\n",
       "    </tr>\n",
       "  </tbody>\n",
       "</table>\n",
       "</div>"
      ],
      "text/plain": [
       "             Category  Number of Sentences\n",
       "0  knowledgable-facts                   69\n",
       "1                कासा                   19\n",
       "2      दुर्घटना-अपराध                   82\n",
       "3     अन्तर्राष्ट्रिय                   46\n",
       "4               नेवाः                   10\n",
       "5                बजाः                   31\n",
       "6        स्थानिय-समाज                   74\n",
       "7             राजनीति                  228\n",
       "8                 कला                   50\n",
       "9           राष्ट्रिय                   95"
      ]
     },
     "metadata": {},
     "output_type": "display_data"
    }
   ],
   "source": [
    "# creating a DataFrame\n",
    "dict = {'Category' : categories,\n",
    "        'Number of Sentences' : sentence_count \n",
    "       }\n",
    "df = pd.DataFrame(dict)\n",
    "  \n",
    "# displaying the DataFrame\n",
    "display(df)"
   ]
  },
  {
   "cell_type": "code",
   "execution_count": 7,
   "id": "85d5c7b6-255b-4307-99a6-14639b66f5ed",
   "metadata": {},
   "outputs": [],
   "source": [
    "final_df = pd.concat(dataframes)"
   ]
  },
  {
   "cell_type": "code",
   "execution_count": 8,
   "id": "f887fb94-bab5-4f48-88d3-b07e193848fd",
   "metadata": {},
   "outputs": [],
   "source": [
    "total_number_of_sentence = final_df['number_of_sentences'].sum()"
   ]
  },
  {
   "cell_type": "code",
   "execution_count": 9,
   "id": "711f659e-c6a7-4360-9eb3-4ae26360048a",
   "metadata": {},
   "outputs": [
    {
     "data": {
      "text/plain": [
       "704"
      ]
     },
     "execution_count": 9,
     "metadata": {},
     "output_type": "execute_result"
    }
   ],
   "source": [
    "total_number_of_sentence"
   ]
  },
  {
   "cell_type": "code",
   "execution_count": 10,
   "id": "ff8f2cdd-f8a4-4adc-be72-4539fb48b8a0",
   "metadata": {},
   "outputs": [],
   "source": [
    "total_number_of_word = final_df['number_of_words'].sum()"
   ]
  },
  {
   "cell_type": "code",
   "execution_count": 11,
   "id": "2e922bf7-0fde-42fa-9dcd-9febc624369b",
   "metadata": {},
   "outputs": [
    {
     "data": {
      "text/plain": [
       "109215"
      ]
     },
     "execution_count": 11,
     "metadata": {},
     "output_type": "execute_result"
    }
   ],
   "source": [
    "total_number_of_word"
   ]
  },
  {
   "cell_type": "code",
   "execution_count": 13,
   "id": "07958f89-78e8-4e42-8114-35250098a744",
   "metadata": {},
   "outputs": [
    {
     "data": {
      "text/html": [
       "<div>\n",
       "<style scoped>\n",
       "    .dataframe tbody tr th:only-of-type {\n",
       "        vertical-align: middle;\n",
       "    }\n",
       "\n",
       "    .dataframe tbody tr th {\n",
       "        vertical-align: top;\n",
       "    }\n",
       "\n",
       "    .dataframe thead th {\n",
       "        text-align: right;\n",
       "    }\n",
       "</style>\n",
       "<table border=\"1\" class=\"dataframe\">\n",
       "  <thead>\n",
       "    <tr style=\"text-align: right;\">\n",
       "      <th></th>\n",
       "      <th>Total Number of Words</th>\n",
       "      <th>Total Number of Sentences</th>\n",
       "    </tr>\n",
       "  </thead>\n",
       "  <tbody>\n",
       "    <tr>\n",
       "      <th>0</th>\n",
       "      <td>109215</td>\n",
       "      <td>704</td>\n",
       "    </tr>\n",
       "  </tbody>\n",
       "</table>\n",
       "</div>"
      ],
      "text/plain": [
       "   Total Number of Words  Total Number of Sentences\n",
       "0                 109215                        704"
      ]
     },
     "metadata": {},
     "output_type": "display_data"
    }
   ],
   "source": [
    "# creating a DataFrame\n",
    "dict = {\n",
    "    'Total Number of Words' : [total_number_of_word],\n",
    "    'Total Number of Sentences' : [total_number_of_sentence] \n",
    "}\n",
    "df = pd.DataFrame(dict)\n",
    "  \n",
    "# displaying the DataFrame\n",
    "display(df)"
   ]
  },
  {
   "cell_type": "code",
   "execution_count": null,
   "id": "adfba129-0602-4d2b-87d0-d17a516ffa6c",
   "metadata": {},
   "outputs": [],
   "source": []
  }
 ],
 "metadata": {
  "kernelspec": {
   "display_name": "Python 3 (ipykernel)",
   "language": "python",
   "name": "python3"
  },
  "language_info": {
   "codemirror_mode": {
    "name": "ipython",
    "version": 3
   },
   "file_extension": ".py",
   "mimetype": "text/x-python",
   "name": "python",
   "nbconvert_exporter": "python",
   "pygments_lexer": "ipython3",
   "version": "3.9.7"
  }
 },
 "nbformat": 4,
 "nbformat_minor": 5
}
