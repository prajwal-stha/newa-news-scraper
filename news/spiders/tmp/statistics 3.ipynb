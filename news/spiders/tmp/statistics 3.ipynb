{
 "cells": [
  {
   "cell_type": "code",
   "execution_count": 4,
   "id": "f832d736-66d7-41ec-bf0c-8dc36b1c22a0",
   "metadata": {},
   "outputs": [],
   "source": [
    "import numpy as np\n",
    "import pandas as pd\n",
    "import os\n",
    "import glob\n",
    "from IPython.display import display"
   ]
  },
  {
   "cell_type": "code",
   "execution_count": 5,
   "id": "a019bc25-be48-43e3-bb32-ca5490db3aac",
   "metadata": {},
   "outputs": [],
   "source": [
    "dataframes = {os.path.splitext(os.path.basename(f))[0] : pd.read_csv(f) for f in glob.glob('*.csv')} "
   ]
  },
  {
   "cell_type": "code",
   "execution_count": 7,
   "id": "c043d51a-2a21-44cd-90be-1818f9cd971d",
   "metadata": {},
   "outputs": [
    {
     "name": "stdout",
     "output_type": "stream",
     "text": [
      "1162038\n",
      "103933\n",
      "2907\n",
      "25825\n",
      "120938\n",
      "18222\n",
      "25998\n",
      "25193\n",
      "68225\n",
      "20653\n",
      "3842\n",
      "64219\n",
      "823590\n"
     ]
    }
   ],
   "source": [
    "categories = []\n",
    "word_counts = []\n",
    "\n",
    "for name in dataframes:\n",
    "    if name:\n",
    "        dataframe = dataframes[name]\n",
    "        categories.append(name)\n",
    "        dataframe['number_of_words'] = dataframe['final_news'].apply(lambda n: len(str(n).split()))\n",
    "        total_number_of_words = dataframe['number_of_words'].sum()\n",
    "        print(total_number_of_words)\n",
    "        word_counts.append(total_number_of_words)\n",
    "          "
   ]
  },
  {
   "cell_type": "code",
   "execution_count": 8,
   "id": "05b2fec2-d3ff-4fd5-b3b7-763cd7fd143f",
   "metadata": {},
   "outputs": [
    {
     "data": {
      "text/html": [
       "<div>\n",
       "<style scoped>\n",
       "    .dataframe tbody tr th:only-of-type {\n",
       "        vertical-align: middle;\n",
       "    }\n",
       "\n",
       "    .dataframe tbody tr th {\n",
       "        vertical-align: top;\n",
       "    }\n",
       "\n",
       "    .dataframe thead th {\n",
       "        text-align: right;\n",
       "    }\n",
       "</style>\n",
       "<table border=\"1\" class=\"dataframe\">\n",
       "  <thead>\n",
       "    <tr style=\"text-align: right;\">\n",
       "      <th></th>\n",
       "      <th>Category</th>\n",
       "      <th>Number of Words</th>\n",
       "    </tr>\n",
       "  </thead>\n",
       "  <tbody>\n",
       "    <tr>\n",
       "      <th>0</th>\n",
       "      <td>च्वसु</td>\n",
       "      <td>1162038</td>\n",
       "    </tr>\n",
       "    <tr>\n",
       "      <th>1</th>\n",
       "      <td>झीगु स्वनिगः &gt; बुखँ</td>\n",
       "      <td>103933</td>\n",
       "    </tr>\n",
       "    <tr>\n",
       "      <th>2</th>\n",
       "      <td>नेवाः व्यक्तित्व</td>\n",
       "      <td>2907</td>\n",
       "    </tr>\n",
       "    <tr>\n",
       "      <th>3</th>\n",
       "      <td>आर्थिक</td>\n",
       "      <td>25825</td>\n",
       "    </tr>\n",
       "    <tr>\n",
       "      <th>4</th>\n",
       "      <td>सम्पादकीय</td>\n",
       "      <td>120938</td>\n",
       "    </tr>\n",
       "    <tr>\n",
       "      <th>5</th>\n",
       "      <td>अन्तर्राष्ट्रिय</td>\n",
       "      <td>18222</td>\n",
       "    </tr>\n",
       "    <tr>\n",
       "      <th>6</th>\n",
       "      <td>सम्पादकयात पौ</td>\n",
       "      <td>25998</td>\n",
       "    </tr>\n",
       "    <tr>\n",
       "      <th>7</th>\n",
       "      <td>अन्तर्राष्ट्रिय ख्यः</td>\n",
       "      <td>25193</td>\n",
       "    </tr>\n",
       "    <tr>\n",
       "      <th>8</th>\n",
       "      <td>समाज व संस्कृति</td>\n",
       "      <td>68225</td>\n",
       "    </tr>\n",
       "    <tr>\n",
       "      <th>9</th>\n",
       "      <td>मनोरञ्जन</td>\n",
       "      <td>20653</td>\n",
       "    </tr>\n",
       "    <tr>\n",
       "      <th>10</th>\n",
       "      <td>शिक्षा व करिअर</td>\n",
       "      <td>3842</td>\n",
       "    </tr>\n",
       "    <tr>\n",
       "      <th>11</th>\n",
       "      <td>मू बुखँ</td>\n",
       "      <td>64219</td>\n",
       "    </tr>\n",
       "    <tr>\n",
       "      <th>12</th>\n",
       "      <td>समाचार व विचार</td>\n",
       "      <td>823590</td>\n",
       "    </tr>\n",
       "  </tbody>\n",
       "</table>\n",
       "</div>"
      ],
      "text/plain": [
       "                Category  Number of Words\n",
       "0                  च्वसु          1162038\n",
       "1    झीगु स्वनिगः > बुखँ           103933\n",
       "2       नेवाः व्यक्तित्व             2907\n",
       "3                 आर्थिक            25825\n",
       "4              सम्पादकीय           120938\n",
       "5        अन्तर्राष्ट्रिय            18222\n",
       "6          सम्पादकयात पौ            25998\n",
       "7   अन्तर्राष्ट्रिय ख्यः            25193\n",
       "8        समाज व संस्कृति            68225\n",
       "9               मनोरञ्जन            20653\n",
       "10        शिक्षा व करिअर             3842\n",
       "11               मू बुखँ            64219\n",
       "12        समाचार व विचार           823590"
      ]
     },
     "metadata": {},
     "output_type": "display_data"
    }
   ],
   "source": [
    "# creating a DataFrame\n",
    "dict = {'Category' : categories,\n",
    "        'Number of Words' : word_counts \n",
    "       }\n",
    "df = pd.DataFrame(dict)\n",
    "  \n",
    "# displaying the DataFrame\n",
    "display(df)"
   ]
  },
  {
   "cell_type": "code",
   "execution_count": 10,
   "id": "8eab5af3-2a57-41c5-aaa0-62114dc1d565",
   "metadata": {},
   "outputs": [
    {
     "name": "stdout",
     "output_type": "stream",
     "text": [
      "1700\n",
      "790\n",
      "6\n",
      "118\n",
      "566\n",
      "128\n",
      "157\n",
      "218\n",
      "201\n",
      "34\n",
      "21\n",
      "234\n",
      "6255\n"
     ]
    }
   ],
   "source": [
    "categories = []\n",
    "sentence_count = []\n",
    "\n",
    "for name in dataframes:\n",
    "    if name:\n",
    "        dataframe = dataframes[name]\n",
    "        categories.append(name)\n",
    "        dataframe['number_of_sentences'] = dataframe['final_news'].apply(lambda n: len(str(n).split(\"|\")))\n",
    "        total_number_of_sentence = dataframe['number_of_sentences'].sum()\n",
    "        print(total_number_of_sentence)\n",
    "        sentence_count.append(total_number_of_sentence)"
   ]
  },
  {
   "cell_type": "code",
   "execution_count": 11,
   "id": "3c1790c1-5dcd-4f26-ad21-c6febb461a50",
   "metadata": {},
   "outputs": [
    {
     "data": {
      "text/html": [
       "<div>\n",
       "<style scoped>\n",
       "    .dataframe tbody tr th:only-of-type {\n",
       "        vertical-align: middle;\n",
       "    }\n",
       "\n",
       "    .dataframe tbody tr th {\n",
       "        vertical-align: top;\n",
       "    }\n",
       "\n",
       "    .dataframe thead th {\n",
       "        text-align: right;\n",
       "    }\n",
       "</style>\n",
       "<table border=\"1\" class=\"dataframe\">\n",
       "  <thead>\n",
       "    <tr style=\"text-align: right;\">\n",
       "      <th></th>\n",
       "      <th>Category</th>\n",
       "      <th>Number of Sentences</th>\n",
       "    </tr>\n",
       "  </thead>\n",
       "  <tbody>\n",
       "    <tr>\n",
       "      <th>0</th>\n",
       "      <td>च्वसु</td>\n",
       "      <td>1700</td>\n",
       "    </tr>\n",
       "    <tr>\n",
       "      <th>1</th>\n",
       "      <td>झीगु स्वनिगः &gt; बुखँ</td>\n",
       "      <td>790</td>\n",
       "    </tr>\n",
       "    <tr>\n",
       "      <th>2</th>\n",
       "      <td>नेवाः व्यक्तित्व</td>\n",
       "      <td>6</td>\n",
       "    </tr>\n",
       "    <tr>\n",
       "      <th>3</th>\n",
       "      <td>आर्थिक</td>\n",
       "      <td>118</td>\n",
       "    </tr>\n",
       "    <tr>\n",
       "      <th>4</th>\n",
       "      <td>सम्पादकीय</td>\n",
       "      <td>566</td>\n",
       "    </tr>\n",
       "    <tr>\n",
       "      <th>5</th>\n",
       "      <td>अन्तर्राष्ट्रिय</td>\n",
       "      <td>128</td>\n",
       "    </tr>\n",
       "    <tr>\n",
       "      <th>6</th>\n",
       "      <td>सम्पादकयात पौ</td>\n",
       "      <td>157</td>\n",
       "    </tr>\n",
       "    <tr>\n",
       "      <th>7</th>\n",
       "      <td>अन्तर्राष्ट्रिय ख्यः</td>\n",
       "      <td>218</td>\n",
       "    </tr>\n",
       "    <tr>\n",
       "      <th>8</th>\n",
       "      <td>समाज व संस्कृति</td>\n",
       "      <td>201</td>\n",
       "    </tr>\n",
       "    <tr>\n",
       "      <th>9</th>\n",
       "      <td>मनोरञ्जन</td>\n",
       "      <td>34</td>\n",
       "    </tr>\n",
       "    <tr>\n",
       "      <th>10</th>\n",
       "      <td>शिक्षा व करिअर</td>\n",
       "      <td>21</td>\n",
       "    </tr>\n",
       "    <tr>\n",
       "      <th>11</th>\n",
       "      <td>मू बुखँ</td>\n",
       "      <td>234</td>\n",
       "    </tr>\n",
       "    <tr>\n",
       "      <th>12</th>\n",
       "      <td>समाचार व विचार</td>\n",
       "      <td>6255</td>\n",
       "    </tr>\n",
       "  </tbody>\n",
       "</table>\n",
       "</div>"
      ],
      "text/plain": [
       "                Category  Number of Sentences\n",
       "0                  च्वसु                 1700\n",
       "1    झीगु स्वनिगः > बुखँ                  790\n",
       "2       नेवाः व्यक्तित्व                    6\n",
       "3                 आर्थिक                  118\n",
       "4              सम्पादकीय                  566\n",
       "5        अन्तर्राष्ट्रिय                  128\n",
       "6          सम्पादकयात पौ                  157\n",
       "7   अन्तर्राष्ट्रिय ख्यः                  218\n",
       "8        समाज व संस्कृति                  201\n",
       "9               मनोरञ्जन                   34\n",
       "10        शिक्षा व करिअर                   21\n",
       "11               मू बुखँ                  234\n",
       "12        समाचार व विचार                 6255"
      ]
     },
     "metadata": {},
     "output_type": "display_data"
    }
   ],
   "source": [
    "# creating a DataFrame\n",
    "dict = {'Category' : categories,\n",
    "        'Number of Sentences' : sentence_count \n",
    "       }\n",
    "df = pd.DataFrame(dict)\n",
    "  \n",
    "# displaying the DataFrame\n",
    "display(df)"
   ]
  },
  {
   "cell_type": "code",
   "execution_count": 12,
   "id": "85d5c7b6-255b-4307-99a6-14639b66f5ed",
   "metadata": {},
   "outputs": [],
   "source": [
    "final_df = pd.concat(dataframes)"
   ]
  },
  {
   "cell_type": "code",
   "execution_count": 13,
   "id": "f887fb94-bab5-4f48-88d3-b07e193848fd",
   "metadata": {},
   "outputs": [],
   "source": [
    "total_number_of_sentence = final_df['number_of_sentences'].sum()"
   ]
  },
  {
   "cell_type": "code",
   "execution_count": 14,
   "id": "711f659e-c6a7-4360-9eb3-4ae26360048a",
   "metadata": {},
   "outputs": [
    {
     "data": {
      "text/plain": [
       "10428"
      ]
     },
     "execution_count": 14,
     "metadata": {},
     "output_type": "execute_result"
    }
   ],
   "source": [
    "total_number_of_sentence"
   ]
  },
  {
   "cell_type": "code",
   "execution_count": 15,
   "id": "ff8f2cdd-f8a4-4adc-be72-4539fb48b8a0",
   "metadata": {},
   "outputs": [],
   "source": [
    "total_number_of_word = final_df['number_of_words'].sum()"
   ]
  },
  {
   "cell_type": "code",
   "execution_count": 16,
   "id": "2e922bf7-0fde-42fa-9dcd-9febc624369b",
   "metadata": {},
   "outputs": [
    {
     "data": {
      "text/plain": [
       "2465583"
      ]
     },
     "execution_count": 16,
     "metadata": {},
     "output_type": "execute_result"
    }
   ],
   "source": [
    "total_number_of_word"
   ]
  },
  {
   "cell_type": "code",
   "execution_count": 18,
   "id": "07958f89-78e8-4e42-8114-35250098a744",
   "metadata": {},
   "outputs": [
    {
     "data": {
      "text/html": [
       "<div>\n",
       "<style scoped>\n",
       "    .dataframe tbody tr th:only-of-type {\n",
       "        vertical-align: middle;\n",
       "    }\n",
       "\n",
       "    .dataframe tbody tr th {\n",
       "        vertical-align: top;\n",
       "    }\n",
       "\n",
       "    .dataframe thead th {\n",
       "        text-align: right;\n",
       "    }\n",
       "</style>\n",
       "<table border=\"1\" class=\"dataframe\">\n",
       "  <thead>\n",
       "    <tr style=\"text-align: right;\">\n",
       "      <th></th>\n",
       "      <th>Total Number of Words</th>\n",
       "      <th>Total Number of Sentences</th>\n",
       "    </tr>\n",
       "  </thead>\n",
       "  <tbody>\n",
       "    <tr>\n",
       "      <th>0</th>\n",
       "      <td>2465583</td>\n",
       "      <td>10428</td>\n",
       "    </tr>\n",
       "  </tbody>\n",
       "</table>\n",
       "</div>"
      ],
      "text/plain": [
       "   Total Number of Words  Total Number of Sentences\n",
       "0                2465583                      10428"
      ]
     },
     "metadata": {},
     "output_type": "display_data"
    }
   ],
   "source": [
    "# creating a DataFrame\n",
    "dict = {\n",
    "    'Total Number of Words' : [total_number_of_word],\n",
    "    'Total Number of Sentences' : [total_number_of_sentence]\n",
    "}\n",
    "df = pd.DataFrame(dict)\n",
    "  \n",
    "# displaying the DataFrame\n",
    "display(df)"
   ]
  },
  {
   "cell_type": "code",
   "execution_count": null,
   "id": "adfba129-0602-4d2b-87d0-d17a516ffa6c",
   "metadata": {},
   "outputs": [],
   "source": []
  }
 ],
 "metadata": {
  "kernelspec": {
   "display_name": "Python 3 (ipykernel)",
   "language": "python",
   "name": "python3"
  },
  "language_info": {
   "codemirror_mode": {
    "name": "ipython",
    "version": 3
   },
   "file_extension": ".py",
   "mimetype": "text/x-python",
   "name": "python",
   "nbconvert_exporter": "python",
   "pygments_lexer": "ipython3",
   "version": "3.9.7"
  }
 },
 "nbformat": 4,
 "nbformat_minor": 5
}
