{
 "cells": [
  {
   "cell_type": "code",
   "execution_count": 31,
   "id": "f832d736-66d7-41ec-bf0c-8dc36b1c22a0",
   "metadata": {},
   "outputs": [],
   "source": [
    "import numpy as np\n",
    "import pandas as pd\n",
    "import os\n",
    "import glob\n",
    "from IPython.display import display"
   ]
  },
  {
   "cell_type": "code",
   "execution_count": 16,
   "id": "a019bc25-be48-43e3-bb32-ca5490db3aac",
   "metadata": {},
   "outputs": [],
   "source": [
    "dataframes = {os.path.splitext(os.path.basename(f))[0] : pd.read_csv(f) for f in glob.glob('*.csv')} "
   ]
  },
  {
   "cell_type": "code",
   "execution_count": 30,
   "id": "c043d51a-2a21-44cd-90be-1818f9cd971d",
   "metadata": {},
   "outputs": [
    {
     "name": "stdout",
     "output_type": "stream",
     "text": [
      "86203\n",
      "100516\n",
      "90935\n",
      "337191\n",
      "81629\n",
      "980097\n",
      "23665\n"
     ]
    }
   ],
   "source": [
    "categories = []\n",
    "word_counts = []\n",
    "\n",
    "for name in dataframes:\n",
    "    if name:\n",
    "        dataframe = dataframes[name]\n",
    "        categories.append(name)\n",
    "        dataframe['number_of_words'] = dataframe['final_news'].apply(lambda n: len(n.split()))\n",
    "        total_number_of_words = dataframe['number_of_words'].sum()\n",
    "        print(total_number_of_words)\n",
    "        word_counts.append(total_number_of_words)\n",
    "          "
   ]
  },
  {
   "cell_type": "code",
   "execution_count": 33,
   "id": "05b2fec2-d3ff-4fd5-b3b7-763cd7fd143f",
   "metadata": {},
   "outputs": [
    {
     "data": {
      "text/html": [
       "<div>\n",
       "<style scoped>\n",
       "    .dataframe tbody tr th:only-of-type {\n",
       "        vertical-align: middle;\n",
       "    }\n",
       "\n",
       "    .dataframe tbody tr th {\n",
       "        vertical-align: top;\n",
       "    }\n",
       "\n",
       "    .dataframe thead th {\n",
       "        text-align: right;\n",
       "    }\n",
       "</style>\n",
       "<table border=\"1\" class=\"dataframe\">\n",
       "  <thead>\n",
       "    <tr style=\"text-align: right;\">\n",
       "      <th></th>\n",
       "      <th>Category</th>\n",
       "      <th>Number of Words</th>\n",
       "    </tr>\n",
       "  </thead>\n",
       "  <tbody>\n",
       "    <tr>\n",
       "      <th>0</th>\n",
       "      <td>कासा</td>\n",
       "      <td>86203</td>\n",
       "    </tr>\n",
       "    <tr>\n",
       "      <th>1</th>\n",
       "      <td>अन्तर्राष्ट्रिय</td>\n",
       "      <td>100516</td>\n",
       "    </tr>\n",
       "    <tr>\n",
       "      <th>2</th>\n",
       "      <td>राजनीति</td>\n",
       "      <td>90935</td>\n",
       "    </tr>\n",
       "    <tr>\n",
       "      <th>3</th>\n",
       "      <td>बिचा</td>\n",
       "      <td>337191</td>\n",
       "    </tr>\n",
       "    <tr>\n",
       "      <th>4</th>\n",
       "      <td>मनोरन्जन</td>\n",
       "      <td>81629</td>\n",
       "    </tr>\n",
       "    <tr>\n",
       "      <th>5</th>\n",
       "      <td>राष्ट्रिय</td>\n",
       "      <td>980097</td>\n",
       "    </tr>\n",
       "    <tr>\n",
       "      <th>6</th>\n",
       "      <td>अपराध</td>\n",
       "      <td>23665</td>\n",
       "    </tr>\n",
       "  </tbody>\n",
       "</table>\n",
       "</div>"
      ],
      "text/plain": [
       "          Category  Number of Words\n",
       "0             कासा            86203\n",
       "1  अन्तर्राष्ट्रिय           100516\n",
       "2          राजनीति            90935\n",
       "3             बिचा           337191\n",
       "4         मनोरन्जन            81629\n",
       "5        राष्ट्रिय           980097\n",
       "6            अपराध            23665"
      ]
     },
     "metadata": {},
     "output_type": "display_data"
    }
   ],
   "source": [
    "# creating a DataFrame\n",
    "dict = {'Category' : categories,\n",
    "        'Number of Words' : word_counts \n",
    "       }\n",
    "df = pd.DataFrame(dict)\n",
    "  \n",
    "# displaying the DataFrame\n",
    "display(df)"
   ]
  },
  {
   "cell_type": "code",
   "execution_count": 34,
   "id": "8eab5af3-2a57-41c5-aaa0-62114dc1d565",
   "metadata": {},
   "outputs": [
    {
     "name": "stdout",
     "output_type": "stream",
     "text": [
      "741\n",
      "986\n",
      "900\n",
      "473\n",
      "448\n",
      "8294\n",
      "257\n"
     ]
    }
   ],
   "source": [
    "categories = []\n",
    "sentence_count = []\n",
    "\n",
    "for name in dataframes:\n",
    "    if name:\n",
    "        dataframe = dataframes[name]\n",
    "        categories.append(name)\n",
    "        dataframe['number_of_sentences'] = dataframe['final_news'].apply(lambda n: len(n.split(\"|\")))\n",
    "        total_number_of_sentence = dataframe['number_of_sentences'].sum()\n",
    "        print(total_number_of_sentence)\n",
    "        sentence_count.append(total_number_of_sentence)"
   ]
  },
  {
   "cell_type": "code",
   "execution_count": 35,
   "id": "3c1790c1-5dcd-4f26-ad21-c6febb461a50",
   "metadata": {},
   "outputs": [
    {
     "data": {
      "text/html": [
       "<div>\n",
       "<style scoped>\n",
       "    .dataframe tbody tr th:only-of-type {\n",
       "        vertical-align: middle;\n",
       "    }\n",
       "\n",
       "    .dataframe tbody tr th {\n",
       "        vertical-align: top;\n",
       "    }\n",
       "\n",
       "    .dataframe thead th {\n",
       "        text-align: right;\n",
       "    }\n",
       "</style>\n",
       "<table border=\"1\" class=\"dataframe\">\n",
       "  <thead>\n",
       "    <tr style=\"text-align: right;\">\n",
       "      <th></th>\n",
       "      <th>Category</th>\n",
       "      <th>Number of Sentences</th>\n",
       "    </tr>\n",
       "  </thead>\n",
       "  <tbody>\n",
       "    <tr>\n",
       "      <th>0</th>\n",
       "      <td>कासा</td>\n",
       "      <td>741</td>\n",
       "    </tr>\n",
       "    <tr>\n",
       "      <th>1</th>\n",
       "      <td>अन्तर्राष्ट्रिय</td>\n",
       "      <td>986</td>\n",
       "    </tr>\n",
       "    <tr>\n",
       "      <th>2</th>\n",
       "      <td>राजनीति</td>\n",
       "      <td>900</td>\n",
       "    </tr>\n",
       "    <tr>\n",
       "      <th>3</th>\n",
       "      <td>बिचा</td>\n",
       "      <td>473</td>\n",
       "    </tr>\n",
       "    <tr>\n",
       "      <th>4</th>\n",
       "      <td>मनोरन्जन</td>\n",
       "      <td>448</td>\n",
       "    </tr>\n",
       "    <tr>\n",
       "      <th>5</th>\n",
       "      <td>राष्ट्रिय</td>\n",
       "      <td>8294</td>\n",
       "    </tr>\n",
       "    <tr>\n",
       "      <th>6</th>\n",
       "      <td>अपराध</td>\n",
       "      <td>257</td>\n",
       "    </tr>\n",
       "  </tbody>\n",
       "</table>\n",
       "</div>"
      ],
      "text/plain": [
       "          Category  Number of Sentences\n",
       "0             कासा                  741\n",
       "1  अन्तर्राष्ट्रिय                  986\n",
       "2          राजनीति                  900\n",
       "3             बिचा                  473\n",
       "4         मनोरन्जन                  448\n",
       "5        राष्ट्रिय                 8294\n",
       "6            अपराध                  257"
      ]
     },
     "metadata": {},
     "output_type": "display_data"
    }
   ],
   "source": [
    "# creating a DataFrame\n",
    "dict = {'Category' : categories,\n",
    "        'Number of Sentences' : sentence_count \n",
    "       }\n",
    "df = pd.DataFrame(dict)\n",
    "  \n",
    "# displaying the DataFrame\n",
    "display(df)"
   ]
  },
  {
   "cell_type": "code",
   "execution_count": 48,
   "id": "85d5c7b6-255b-4307-99a6-14639b66f5ed",
   "metadata": {},
   "outputs": [],
   "source": [
    "final_df = pd.concat(dataframes)"
   ]
  },
  {
   "cell_type": "code",
   "execution_count": 49,
   "id": "f887fb94-bab5-4f48-88d3-b07e193848fd",
   "metadata": {},
   "outputs": [],
   "source": [
    "total_number_of_sentence = final_df['number_of_sentences'].sum()"
   ]
  },
  {
   "cell_type": "code",
   "execution_count": 50,
   "id": "711f659e-c6a7-4360-9eb3-4ae26360048a",
   "metadata": {},
   "outputs": [
    {
     "data": {
      "text/plain": [
       "12099"
      ]
     },
     "execution_count": 50,
     "metadata": {},
     "output_type": "execute_result"
    }
   ],
   "source": [
    "total_number_of_sentence"
   ]
  },
  {
   "cell_type": "code",
   "execution_count": 51,
   "id": "ff8f2cdd-f8a4-4adc-be72-4539fb48b8a0",
   "metadata": {},
   "outputs": [],
   "source": [
    "total_number_of_word = final_df['number_of_words'].sum()"
   ]
  },
  {
   "cell_type": "code",
   "execution_count": 52,
   "id": "2e922bf7-0fde-42fa-9dcd-9febc624369b",
   "metadata": {},
   "outputs": [
    {
     "data": {
      "text/plain": [
       "1700236"
      ]
     },
     "execution_count": 52,
     "metadata": {},
     "output_type": "execute_result"
    }
   ],
   "source": [
    "total_number_of_word"
   ]
  },
  {
   "cell_type": "code",
   "execution_count": null,
   "id": "07958f89-78e8-4e42-8114-35250098a744",
   "metadata": {},
   "outputs": [],
   "source": [
    "# creating a DataFrame\n",
    "dict = {'Total Number of Words' : total_number_of_word,\n",
    "        'Total Number of Sentences' : total_number_of_sentence \n",
    "       }\n",
    "df = pd.DataFrame(dict)\n",
    "  \n",
    "# displaying the DataFrame\n",
    "display(df)"
   ]
  }
 ],
 "metadata": {
  "kernelspec": {
   "display_name": "Python 3 (ipykernel)",
   "language": "python",
   "name": "python3"
  },
  "language_info": {
   "codemirror_mode": {
    "name": "ipython",
    "version": 3
   },
   "file_extension": ".py",
   "mimetype": "text/x-python",
   "name": "python",
   "nbconvert_exporter": "python",
   "pygments_lexer": "ipython3",
   "version": "3.9.7"
  }
 },
 "nbformat": 4,
 "nbformat_minor": 5
}
